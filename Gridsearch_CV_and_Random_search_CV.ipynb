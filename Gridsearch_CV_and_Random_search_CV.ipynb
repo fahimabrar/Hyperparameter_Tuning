{
  "nbformat": 4,
  "nbformat_minor": 0,
  "metadata": {
    "colab": {
      "name": "Gridsearch CV and Random search CV.ipynb",
      "provenance": [],
      "collapsed_sections": [],
      "authorship_tag": "ABX9TyNwdITRG230SnN1Mud9XEa5",
      "include_colab_link": true
    },
    "kernelspec": {
      "name": "python3",
      "display_name": "Python 3"
    },
    "language_info": {
      "name": "python"
    }
  },
  "cells": [
    {
      "cell_type": "markdown",
      "metadata": {
        "id": "view-in-github",
        "colab_type": "text"
      },
      "source": [
        "<a href=\"https://colab.research.google.com/github/fahimabrar/Hyperparameter_Tuning/blob/main/Gridsearch_CV_and_Random_search_CV.ipynb\" target=\"_parent\"><img src=\"https://colab.research.google.com/assets/colab-badge.svg\" alt=\"Open In Colab\"/></a>"
      ]
    },
    {
      "cell_type": "code",
      "metadata": {
        "id": "UAG8JrmSXBbP"
      },
      "source": [
        "from sklearn import datasets\n",
        "import pandas as pd\n",
        "from sklearn.model_selection import train_test_split\n",
        "from sklearn.model_selection import cross_validate as CV\n",
        "from sklearn.model_selection import cross_val_score\n",
        "import numpy as np"
      ],
      "execution_count": 96,
      "outputs": []
    },
    {
      "cell_type": "markdown",
      "metadata": {
        "id": "nbL6Dgx7sDLo"
      },
      "source": [
        "#loading the populart breast cancer dataset"
      ]
    },
    {
      "cell_type": "code",
      "metadata": {
        "id": "Mm14r8dQXmDy"
      },
      "source": [
        "bc_data = datasets.load_breast_cancer()"
      ],
      "execution_count": 58,
      "outputs": []
    },
    {
      "cell_type": "code",
      "metadata": {
        "colab": {
          "base_uri": "https://localhost:8080/"
        },
        "id": "YN7LiV2rr0_r",
        "outputId": "847ff15b-c89b-4f2e-eaaa-50ffef1a62e2"
      },
      "source": [
        "bc_data.target_names\n",
        "# there are two target class"
      ],
      "execution_count": 59,
      "outputs": [
        {
          "output_type": "execute_result",
          "data": {
            "text/plain": [
              "array(['malignant', 'benign'], dtype='<U9')"
            ]
          },
          "metadata": {},
          "execution_count": 59
        }
      ]
    },
    {
      "cell_type": "code",
      "metadata": {
        "colab": {
          "base_uri": "https://localhost:8080/",
          "height": 257
        },
        "id": "unxpw7641Gum",
        "outputId": "927003f4-df73-4262-91f8-378cc89dfe5f"
      },
      "source": [
        "df = pd.DataFrame(bc_data.data, columns=bc_data.feature_names)\n",
        "# we loaded iris dataset from sklearn datasets and converted them to a pandas dataFrame to see the features names\n",
        "df.head()"
      ],
      "execution_count": 60,
      "outputs": [
        {
          "output_type": "execute_result",
          "data": {
            "text/html": [
              "<div>\n",
              "<style scoped>\n",
              "    .dataframe tbody tr th:only-of-type {\n",
              "        vertical-align: middle;\n",
              "    }\n",
              "\n",
              "    .dataframe tbody tr th {\n",
              "        vertical-align: top;\n",
              "    }\n",
              "\n",
              "    .dataframe thead th {\n",
              "        text-align: right;\n",
              "    }\n",
              "</style>\n",
              "<table border=\"1\" class=\"dataframe\">\n",
              "  <thead>\n",
              "    <tr style=\"text-align: right;\">\n",
              "      <th></th>\n",
              "      <th>mean radius</th>\n",
              "      <th>mean texture</th>\n",
              "      <th>mean perimeter</th>\n",
              "      <th>mean area</th>\n",
              "      <th>mean smoothness</th>\n",
              "      <th>mean compactness</th>\n",
              "      <th>mean concavity</th>\n",
              "      <th>mean concave points</th>\n",
              "      <th>mean symmetry</th>\n",
              "      <th>mean fractal dimension</th>\n",
              "      <th>radius error</th>\n",
              "      <th>texture error</th>\n",
              "      <th>perimeter error</th>\n",
              "      <th>area error</th>\n",
              "      <th>smoothness error</th>\n",
              "      <th>compactness error</th>\n",
              "      <th>concavity error</th>\n",
              "      <th>concave points error</th>\n",
              "      <th>symmetry error</th>\n",
              "      <th>fractal dimension error</th>\n",
              "      <th>worst radius</th>\n",
              "      <th>worst texture</th>\n",
              "      <th>worst perimeter</th>\n",
              "      <th>worst area</th>\n",
              "      <th>worst smoothness</th>\n",
              "      <th>worst compactness</th>\n",
              "      <th>worst concavity</th>\n",
              "      <th>worst concave points</th>\n",
              "      <th>worst symmetry</th>\n",
              "      <th>worst fractal dimension</th>\n",
              "    </tr>\n",
              "  </thead>\n",
              "  <tbody>\n",
              "    <tr>\n",
              "      <th>0</th>\n",
              "      <td>17.99</td>\n",
              "      <td>10.38</td>\n",
              "      <td>122.80</td>\n",
              "      <td>1001.0</td>\n",
              "      <td>0.11840</td>\n",
              "      <td>0.27760</td>\n",
              "      <td>0.3001</td>\n",
              "      <td>0.14710</td>\n",
              "      <td>0.2419</td>\n",
              "      <td>0.07871</td>\n",
              "      <td>1.0950</td>\n",
              "      <td>0.9053</td>\n",
              "      <td>8.589</td>\n",
              "      <td>153.40</td>\n",
              "      <td>0.006399</td>\n",
              "      <td>0.04904</td>\n",
              "      <td>0.05373</td>\n",
              "      <td>0.01587</td>\n",
              "      <td>0.03003</td>\n",
              "      <td>0.006193</td>\n",
              "      <td>25.38</td>\n",
              "      <td>17.33</td>\n",
              "      <td>184.60</td>\n",
              "      <td>2019.0</td>\n",
              "      <td>0.1622</td>\n",
              "      <td>0.6656</td>\n",
              "      <td>0.7119</td>\n",
              "      <td>0.2654</td>\n",
              "      <td>0.4601</td>\n",
              "      <td>0.11890</td>\n",
              "    </tr>\n",
              "    <tr>\n",
              "      <th>1</th>\n",
              "      <td>20.57</td>\n",
              "      <td>17.77</td>\n",
              "      <td>132.90</td>\n",
              "      <td>1326.0</td>\n",
              "      <td>0.08474</td>\n",
              "      <td>0.07864</td>\n",
              "      <td>0.0869</td>\n",
              "      <td>0.07017</td>\n",
              "      <td>0.1812</td>\n",
              "      <td>0.05667</td>\n",
              "      <td>0.5435</td>\n",
              "      <td>0.7339</td>\n",
              "      <td>3.398</td>\n",
              "      <td>74.08</td>\n",
              "      <td>0.005225</td>\n",
              "      <td>0.01308</td>\n",
              "      <td>0.01860</td>\n",
              "      <td>0.01340</td>\n",
              "      <td>0.01389</td>\n",
              "      <td>0.003532</td>\n",
              "      <td>24.99</td>\n",
              "      <td>23.41</td>\n",
              "      <td>158.80</td>\n",
              "      <td>1956.0</td>\n",
              "      <td>0.1238</td>\n",
              "      <td>0.1866</td>\n",
              "      <td>0.2416</td>\n",
              "      <td>0.1860</td>\n",
              "      <td>0.2750</td>\n",
              "      <td>0.08902</td>\n",
              "    </tr>\n",
              "    <tr>\n",
              "      <th>2</th>\n",
              "      <td>19.69</td>\n",
              "      <td>21.25</td>\n",
              "      <td>130.00</td>\n",
              "      <td>1203.0</td>\n",
              "      <td>0.10960</td>\n",
              "      <td>0.15990</td>\n",
              "      <td>0.1974</td>\n",
              "      <td>0.12790</td>\n",
              "      <td>0.2069</td>\n",
              "      <td>0.05999</td>\n",
              "      <td>0.7456</td>\n",
              "      <td>0.7869</td>\n",
              "      <td>4.585</td>\n",
              "      <td>94.03</td>\n",
              "      <td>0.006150</td>\n",
              "      <td>0.04006</td>\n",
              "      <td>0.03832</td>\n",
              "      <td>0.02058</td>\n",
              "      <td>0.02250</td>\n",
              "      <td>0.004571</td>\n",
              "      <td>23.57</td>\n",
              "      <td>25.53</td>\n",
              "      <td>152.50</td>\n",
              "      <td>1709.0</td>\n",
              "      <td>0.1444</td>\n",
              "      <td>0.4245</td>\n",
              "      <td>0.4504</td>\n",
              "      <td>0.2430</td>\n",
              "      <td>0.3613</td>\n",
              "      <td>0.08758</td>\n",
              "    </tr>\n",
              "    <tr>\n",
              "      <th>3</th>\n",
              "      <td>11.42</td>\n",
              "      <td>20.38</td>\n",
              "      <td>77.58</td>\n",
              "      <td>386.1</td>\n",
              "      <td>0.14250</td>\n",
              "      <td>0.28390</td>\n",
              "      <td>0.2414</td>\n",
              "      <td>0.10520</td>\n",
              "      <td>0.2597</td>\n",
              "      <td>0.09744</td>\n",
              "      <td>0.4956</td>\n",
              "      <td>1.1560</td>\n",
              "      <td>3.445</td>\n",
              "      <td>27.23</td>\n",
              "      <td>0.009110</td>\n",
              "      <td>0.07458</td>\n",
              "      <td>0.05661</td>\n",
              "      <td>0.01867</td>\n",
              "      <td>0.05963</td>\n",
              "      <td>0.009208</td>\n",
              "      <td>14.91</td>\n",
              "      <td>26.50</td>\n",
              "      <td>98.87</td>\n",
              "      <td>567.7</td>\n",
              "      <td>0.2098</td>\n",
              "      <td>0.8663</td>\n",
              "      <td>0.6869</td>\n",
              "      <td>0.2575</td>\n",
              "      <td>0.6638</td>\n",
              "      <td>0.17300</td>\n",
              "    </tr>\n",
              "    <tr>\n",
              "      <th>4</th>\n",
              "      <td>20.29</td>\n",
              "      <td>14.34</td>\n",
              "      <td>135.10</td>\n",
              "      <td>1297.0</td>\n",
              "      <td>0.10030</td>\n",
              "      <td>0.13280</td>\n",
              "      <td>0.1980</td>\n",
              "      <td>0.10430</td>\n",
              "      <td>0.1809</td>\n",
              "      <td>0.05883</td>\n",
              "      <td>0.7572</td>\n",
              "      <td>0.7813</td>\n",
              "      <td>5.438</td>\n",
              "      <td>94.44</td>\n",
              "      <td>0.011490</td>\n",
              "      <td>0.02461</td>\n",
              "      <td>0.05688</td>\n",
              "      <td>0.01885</td>\n",
              "      <td>0.01756</td>\n",
              "      <td>0.005115</td>\n",
              "      <td>22.54</td>\n",
              "      <td>16.67</td>\n",
              "      <td>152.20</td>\n",
              "      <td>1575.0</td>\n",
              "      <td>0.1374</td>\n",
              "      <td>0.2050</td>\n",
              "      <td>0.4000</td>\n",
              "      <td>0.1625</td>\n",
              "      <td>0.2364</td>\n",
              "      <td>0.07678</td>\n",
              "    </tr>\n",
              "  </tbody>\n",
              "</table>\n",
              "</div>"
            ],
            "text/plain": [
              "   mean radius  mean texture  ...  worst symmetry  worst fractal dimension\n",
              "0        17.99         10.38  ...          0.4601                  0.11890\n",
              "1        20.57         17.77  ...          0.2750                  0.08902\n",
              "2        19.69         21.25  ...          0.3613                  0.08758\n",
              "3        11.42         20.38  ...          0.6638                  0.17300\n",
              "4        20.29         14.34  ...          0.2364                  0.07678\n",
              "\n",
              "[5 rows x 30 columns]"
            ]
          },
          "metadata": {},
          "execution_count": 60
        }
      ]
    },
    {
      "cell_type": "markdown",
      "metadata": {
        "id": "flPuxwh_x_Q5"
      },
      "source": [
        "# Little EDA"
      ]
    },
    {
      "cell_type": "code",
      "metadata": {
        "colab": {
          "base_uri": "https://localhost:8080/"
        },
        "id": "PAqFHaspzr_0",
        "outputId": "bc49d070-0c3e-45c7-c79a-1800d4539474"
      },
      "source": [
        "np.shape(bc_data.data)"
      ],
      "execution_count": 61,
      "outputs": [
        {
          "output_type": "execute_result",
          "data": {
            "text/plain": [
              "(569, 30)"
            ]
          },
          "metadata": {},
          "execution_count": 61
        }
      ]
    },
    {
      "cell_type": "code",
      "metadata": {
        "colab": {
          "base_uri": "https://localhost:8080/"
        },
        "id": "Qds8TQ2PX_ED",
        "outputId": "7918c9f4-dc02-41e1-c328-be403feddcdd"
      },
      "source": [
        "np.shape(bc_data.target)"
      ],
      "execution_count": 62,
      "outputs": [
        {
          "output_type": "execute_result",
          "data": {
            "text/plain": [
              "(569,)"
            ]
          },
          "metadata": {},
          "execution_count": 62
        }
      ]
    },
    {
      "cell_type": "markdown",
      "metadata": {
        "id": "bM1U-5w7cfRC"
      },
      "source": [
        "# **Principal Component Analysis**"
      ]
    },
    {
      "cell_type": "code",
      "metadata": {
        "id": "iVlkJPV31xfi"
      },
      "source": [
        "from sklearn import decomposition\n",
        "from sklearn.preprocessing import scale"
      ],
      "execution_count": 65,
      "outputs": []
    },
    {
      "cell_type": "code",
      "metadata": {
        "colab": {
          "base_uri": "https://localhost:8080/"
        },
        "id": "yL4ikKiCz1W4",
        "outputId": "6120aa71-95ef-46a9-894e-27d7f250570c"
      },
      "source": [
        "scaled_data = scale(df)\n",
        "pca = decomposition.PCA(n_components = 4)\n",
        "pca.fit(scaled_data)"
      ],
      "execution_count": 67,
      "outputs": [
        {
          "output_type": "execute_result",
          "data": {
            "text/plain": [
              "PCA(copy=True, iterated_power='auto', n_components=4, random_state=None,\n",
              "    svd_solver='auto', tol=0.0, whiten=False)"
            ]
          },
          "metadata": {},
          "execution_count": 67
        }
      ]
    },
    {
      "cell_type": "code",
      "metadata": {
        "colab": {
          "base_uri": "https://localhost:8080/",
          "height": 203
        },
        "id": "qTAsqMei2sb-",
        "outputId": "8763ee64-4909-4e06-ecae-cb46c848a00f"
      },
      "source": [
        "scores = pca.transform(scaled_data)\n",
        "pca_df = pd.DataFrame(scores, columns=[\"pc1\", \"pc2\", \"pc3\", \"pc4\"])\n",
        "pca_df.head()"
      ],
      "execution_count": 69,
      "outputs": [
        {
          "output_type": "execute_result",
          "data": {
            "text/html": [
              "<div>\n",
              "<style scoped>\n",
              "    .dataframe tbody tr th:only-of-type {\n",
              "        vertical-align: middle;\n",
              "    }\n",
              "\n",
              "    .dataframe tbody tr th {\n",
              "        vertical-align: top;\n",
              "    }\n",
              "\n",
              "    .dataframe thead th {\n",
              "        text-align: right;\n",
              "    }\n",
              "</style>\n",
              "<table border=\"1\" class=\"dataframe\">\n",
              "  <thead>\n",
              "    <tr style=\"text-align: right;\">\n",
              "      <th></th>\n",
              "      <th>pc1</th>\n",
              "      <th>pc2</th>\n",
              "      <th>pc3</th>\n",
              "      <th>pc4</th>\n",
              "    </tr>\n",
              "  </thead>\n",
              "  <tbody>\n",
              "    <tr>\n",
              "      <th>0</th>\n",
              "      <td>9.192837</td>\n",
              "      <td>1.948583</td>\n",
              "      <td>-1.123166</td>\n",
              "      <td>3.633731</td>\n",
              "    </tr>\n",
              "    <tr>\n",
              "      <th>1</th>\n",
              "      <td>2.387802</td>\n",
              "      <td>-3.768172</td>\n",
              "      <td>-0.529293</td>\n",
              "      <td>1.118264</td>\n",
              "    </tr>\n",
              "    <tr>\n",
              "      <th>2</th>\n",
              "      <td>5.733896</td>\n",
              "      <td>-1.075174</td>\n",
              "      <td>-0.551748</td>\n",
              "      <td>0.912083</td>\n",
              "    </tr>\n",
              "    <tr>\n",
              "      <th>3</th>\n",
              "      <td>7.122953</td>\n",
              "      <td>10.275589</td>\n",
              "      <td>-3.232790</td>\n",
              "      <td>0.152547</td>\n",
              "    </tr>\n",
              "    <tr>\n",
              "      <th>4</th>\n",
              "      <td>3.935302</td>\n",
              "      <td>-1.948072</td>\n",
              "      <td>1.389767</td>\n",
              "      <td>2.940639</td>\n",
              "    </tr>\n",
              "  </tbody>\n",
              "</table>\n",
              "</div>"
            ],
            "text/plain": [
              "        pc1        pc2       pc3       pc4\n",
              "0  9.192837   1.948583 -1.123166  3.633731\n",
              "1  2.387802  -3.768172 -0.529293  1.118264\n",
              "2  5.733896  -1.075174 -0.551748  0.912083\n",
              "3  7.122953  10.275589 -3.232790  0.152547\n",
              "4  3.935302  -1.948072  1.389767  2.940639"
            ]
          },
          "metadata": {},
          "execution_count": 69
        }
      ]
    },
    {
      "cell_type": "code",
      "metadata": {
        "colab": {
          "base_uri": "https://localhost:8080/",
          "height": 973
        },
        "id": "QclpVxkC2_bF",
        "outputId": "22c7bdbc-3401-48e7-96b6-acfa286558ef"
      },
      "source": [
        "loadings = pca.components_.T\n",
        "df_loadings = pd.DataFrame(loadings, columns = ['pc1', 'pc2', \"pc3\", \"pc4\"], index =df.columns)\n",
        "df_loadings"
      ],
      "execution_count": 71,
      "outputs": [
        {
          "output_type": "execute_result",
          "data": {
            "text/html": [
              "<div>\n",
              "<style scoped>\n",
              "    .dataframe tbody tr th:only-of-type {\n",
              "        vertical-align: middle;\n",
              "    }\n",
              "\n",
              "    .dataframe tbody tr th {\n",
              "        vertical-align: top;\n",
              "    }\n",
              "\n",
              "    .dataframe thead th {\n",
              "        text-align: right;\n",
              "    }\n",
              "</style>\n",
              "<table border=\"1\" class=\"dataframe\">\n",
              "  <thead>\n",
              "    <tr style=\"text-align: right;\">\n",
              "      <th></th>\n",
              "      <th>pc1</th>\n",
              "      <th>pc2</th>\n",
              "      <th>pc3</th>\n",
              "      <th>pc4</th>\n",
              "    </tr>\n",
              "  </thead>\n",
              "  <tbody>\n",
              "    <tr>\n",
              "      <th>mean radius</th>\n",
              "      <td>0.218902</td>\n",
              "      <td>-0.233857</td>\n",
              "      <td>-0.008531</td>\n",
              "      <td>0.041409</td>\n",
              "    </tr>\n",
              "    <tr>\n",
              "      <th>mean texture</th>\n",
              "      <td>0.103725</td>\n",
              "      <td>-0.059706</td>\n",
              "      <td>0.064550</td>\n",
              "      <td>-0.603050</td>\n",
              "    </tr>\n",
              "    <tr>\n",
              "      <th>mean perimeter</th>\n",
              "      <td>0.227537</td>\n",
              "      <td>-0.215181</td>\n",
              "      <td>-0.009314</td>\n",
              "      <td>0.041983</td>\n",
              "    </tr>\n",
              "    <tr>\n",
              "      <th>mean area</th>\n",
              "      <td>0.220995</td>\n",
              "      <td>-0.231077</td>\n",
              "      <td>0.028700</td>\n",
              "      <td>0.053434</td>\n",
              "    </tr>\n",
              "    <tr>\n",
              "      <th>mean smoothness</th>\n",
              "      <td>0.142590</td>\n",
              "      <td>0.186113</td>\n",
              "      <td>-0.104292</td>\n",
              "      <td>0.159383</td>\n",
              "    </tr>\n",
              "    <tr>\n",
              "      <th>mean compactness</th>\n",
              "      <td>0.239285</td>\n",
              "      <td>0.151892</td>\n",
              "      <td>-0.074092</td>\n",
              "      <td>0.031795</td>\n",
              "    </tr>\n",
              "    <tr>\n",
              "      <th>mean concavity</th>\n",
              "      <td>0.258400</td>\n",
              "      <td>0.060165</td>\n",
              "      <td>0.002734</td>\n",
              "      <td>0.019123</td>\n",
              "    </tr>\n",
              "    <tr>\n",
              "      <th>mean concave points</th>\n",
              "      <td>0.260854</td>\n",
              "      <td>-0.034768</td>\n",
              "      <td>-0.025564</td>\n",
              "      <td>0.065336</td>\n",
              "    </tr>\n",
              "    <tr>\n",
              "      <th>mean symmetry</th>\n",
              "      <td>0.138167</td>\n",
              "      <td>0.190349</td>\n",
              "      <td>-0.040240</td>\n",
              "      <td>0.067125</td>\n",
              "    </tr>\n",
              "    <tr>\n",
              "      <th>mean fractal dimension</th>\n",
              "      <td>0.064363</td>\n",
              "      <td>0.366575</td>\n",
              "      <td>-0.022574</td>\n",
              "      <td>0.048587</td>\n",
              "    </tr>\n",
              "    <tr>\n",
              "      <th>radius error</th>\n",
              "      <td>0.205979</td>\n",
              "      <td>-0.105552</td>\n",
              "      <td>0.268481</td>\n",
              "      <td>0.097941</td>\n",
              "    </tr>\n",
              "    <tr>\n",
              "      <th>texture error</th>\n",
              "      <td>0.017428</td>\n",
              "      <td>0.089980</td>\n",
              "      <td>0.374634</td>\n",
              "      <td>-0.359856</td>\n",
              "    </tr>\n",
              "    <tr>\n",
              "      <th>perimeter error</th>\n",
              "      <td>0.211326</td>\n",
              "      <td>-0.089457</td>\n",
              "      <td>0.266645</td>\n",
              "      <td>0.088992</td>\n",
              "    </tr>\n",
              "    <tr>\n",
              "      <th>area error</th>\n",
              "      <td>0.202870</td>\n",
              "      <td>-0.152293</td>\n",
              "      <td>0.216007</td>\n",
              "      <td>0.108205</td>\n",
              "    </tr>\n",
              "    <tr>\n",
              "      <th>smoothness error</th>\n",
              "      <td>0.014531</td>\n",
              "      <td>0.204430</td>\n",
              "      <td>0.308839</td>\n",
              "      <td>0.044664</td>\n",
              "    </tr>\n",
              "    <tr>\n",
              "      <th>compactness error</th>\n",
              "      <td>0.170393</td>\n",
              "      <td>0.232716</td>\n",
              "      <td>0.154780</td>\n",
              "      <td>-0.027469</td>\n",
              "    </tr>\n",
              "    <tr>\n",
              "      <th>concavity error</th>\n",
              "      <td>0.153590</td>\n",
              "      <td>0.197207</td>\n",
              "      <td>0.176464</td>\n",
              "      <td>0.001317</td>\n",
              "    </tr>\n",
              "    <tr>\n",
              "      <th>concave points error</th>\n",
              "      <td>0.183417</td>\n",
              "      <td>0.130322</td>\n",
              "      <td>0.224658</td>\n",
              "      <td>0.074067</td>\n",
              "    </tr>\n",
              "    <tr>\n",
              "      <th>symmetry error</th>\n",
              "      <td>0.042498</td>\n",
              "      <td>0.183848</td>\n",
              "      <td>0.288584</td>\n",
              "      <td>0.044073</td>\n",
              "    </tr>\n",
              "    <tr>\n",
              "      <th>fractal dimension error</th>\n",
              "      <td>0.102568</td>\n",
              "      <td>0.280092</td>\n",
              "      <td>0.211504</td>\n",
              "      <td>0.015305</td>\n",
              "    </tr>\n",
              "    <tr>\n",
              "      <th>worst radius</th>\n",
              "      <td>0.227997</td>\n",
              "      <td>-0.219866</td>\n",
              "      <td>-0.047507</td>\n",
              "      <td>0.015417</td>\n",
              "    </tr>\n",
              "    <tr>\n",
              "      <th>worst texture</th>\n",
              "      <td>0.104469</td>\n",
              "      <td>-0.045467</td>\n",
              "      <td>-0.042298</td>\n",
              "      <td>-0.632808</td>\n",
              "    </tr>\n",
              "    <tr>\n",
              "      <th>worst perimeter</th>\n",
              "      <td>0.236640</td>\n",
              "      <td>-0.199878</td>\n",
              "      <td>-0.048547</td>\n",
              "      <td>0.013803</td>\n",
              "    </tr>\n",
              "    <tr>\n",
              "      <th>worst area</th>\n",
              "      <td>0.224871</td>\n",
              "      <td>-0.219352</td>\n",
              "      <td>-0.011902</td>\n",
              "      <td>0.025895</td>\n",
              "    </tr>\n",
              "    <tr>\n",
              "      <th>worst smoothness</th>\n",
              "      <td>0.127953</td>\n",
              "      <td>0.172304</td>\n",
              "      <td>-0.259798</td>\n",
              "      <td>0.017652</td>\n",
              "    </tr>\n",
              "    <tr>\n",
              "      <th>worst compactness</th>\n",
              "      <td>0.210096</td>\n",
              "      <td>0.143593</td>\n",
              "      <td>-0.236076</td>\n",
              "      <td>-0.091328</td>\n",
              "    </tr>\n",
              "    <tr>\n",
              "      <th>worst concavity</th>\n",
              "      <td>0.228768</td>\n",
              "      <td>0.097964</td>\n",
              "      <td>-0.173057</td>\n",
              "      <td>-0.073951</td>\n",
              "    </tr>\n",
              "    <tr>\n",
              "      <th>worst concave points</th>\n",
              "      <td>0.250886</td>\n",
              "      <td>-0.008257</td>\n",
              "      <td>-0.170344</td>\n",
              "      <td>0.006007</td>\n",
              "    </tr>\n",
              "    <tr>\n",
              "      <th>worst symmetry</th>\n",
              "      <td>0.122905</td>\n",
              "      <td>0.141883</td>\n",
              "      <td>-0.271313</td>\n",
              "      <td>-0.036251</td>\n",
              "    </tr>\n",
              "    <tr>\n",
              "      <th>worst fractal dimension</th>\n",
              "      <td>0.131784</td>\n",
              "      <td>0.275339</td>\n",
              "      <td>-0.232791</td>\n",
              "      <td>-0.077053</td>\n",
              "    </tr>\n",
              "  </tbody>\n",
              "</table>\n",
              "</div>"
            ],
            "text/plain": [
              "                              pc1       pc2       pc3       pc4\n",
              "mean radius              0.218902 -0.233857 -0.008531  0.041409\n",
              "mean texture             0.103725 -0.059706  0.064550 -0.603050\n",
              "mean perimeter           0.227537 -0.215181 -0.009314  0.041983\n",
              "mean area                0.220995 -0.231077  0.028700  0.053434\n",
              "mean smoothness          0.142590  0.186113 -0.104292  0.159383\n",
              "mean compactness         0.239285  0.151892 -0.074092  0.031795\n",
              "mean concavity           0.258400  0.060165  0.002734  0.019123\n",
              "mean concave points      0.260854 -0.034768 -0.025564  0.065336\n",
              "mean symmetry            0.138167  0.190349 -0.040240  0.067125\n",
              "mean fractal dimension   0.064363  0.366575 -0.022574  0.048587\n",
              "radius error             0.205979 -0.105552  0.268481  0.097941\n",
              "texture error            0.017428  0.089980  0.374634 -0.359856\n",
              "perimeter error          0.211326 -0.089457  0.266645  0.088992\n",
              "area error               0.202870 -0.152293  0.216007  0.108205\n",
              "smoothness error         0.014531  0.204430  0.308839  0.044664\n",
              "compactness error        0.170393  0.232716  0.154780 -0.027469\n",
              "concavity error          0.153590  0.197207  0.176464  0.001317\n",
              "concave points error     0.183417  0.130322  0.224658  0.074067\n",
              "symmetry error           0.042498  0.183848  0.288584  0.044073\n",
              "fractal dimension error  0.102568  0.280092  0.211504  0.015305\n",
              "worst radius             0.227997 -0.219866 -0.047507  0.015417\n",
              "worst texture            0.104469 -0.045467 -0.042298 -0.632808\n",
              "worst perimeter          0.236640 -0.199878 -0.048547  0.013803\n",
              "worst area               0.224871 -0.219352 -0.011902  0.025895\n",
              "worst smoothness         0.127953  0.172304 -0.259798  0.017652\n",
              "worst compactness        0.210096  0.143593 -0.236076 -0.091328\n",
              "worst concavity          0.228768  0.097964 -0.173057 -0.073951\n",
              "worst concave points     0.250886 -0.008257 -0.170344  0.006007\n",
              "worst symmetry           0.122905  0.141883 -0.271313 -0.036251\n",
              "worst fractal dimension  0.131784  0.275339 -0.232791 -0.077053"
            ]
          },
          "metadata": {},
          "execution_count": 71
        }
      ]
    },
    {
      "cell_type": "code",
      "metadata": {
        "colab": {
          "base_uri": "https://localhost:8080/"
        },
        "id": "c9F9Bd_a2_c5",
        "outputId": "2c3378d9-a7ba-4888-a6f9-5aa2c1d75fc1"
      },
      "source": [
        "pca.explained_variance_ratio_.tolist()\n"
      ],
      "execution_count": 72,
      "outputs": [
        {
          "output_type": "execute_result",
          "data": {
            "text/plain": [
              "[0.44272025607526416,\n",
              " 0.18971182044033108,\n",
              " 0.09393163257431325,\n",
              " 0.06602134915464679]"
            ]
          },
          "metadata": {},
          "execution_count": 72
        }
      ]
    },
    {
      "cell_type": "code",
      "metadata": {
        "colab": {
          "base_uri": "https://localhost:8080/",
          "height": 335
        },
        "id": "CPOg2ZLB2_fm",
        "outputId": "f8c4bdef-8148-41e7-af40-8bc51b16450b"
      },
      "source": [
        "pca_x = [0.44272025607526416,\n",
        " 0.18971182044033108,\n",
        " 0.09393163257431325,\n",
        " 0.06602134915464679]\n",
        "\n",
        "pca_y =[\"pc1\", \"pc2\", \"pc3\", \"pc4\"]\n",
        "\n",
        "import seaborn as sns\n",
        "sns.barplot(pca_y, pca_x)"
      ],
      "execution_count": 74,
      "outputs": [
        {
          "output_type": "stream",
          "name": "stderr",
          "text": [
            "/usr/local/lib/python3.7/dist-packages/seaborn/_decorators.py:43: FutureWarning: Pass the following variables as keyword args: x, y. From version 0.12, the only valid positional argument will be `data`, and passing other arguments without an explicit keyword will result in an error or misinterpretation.\n",
            "  FutureWarning\n"
          ]
        },
        {
          "output_type": "execute_result",
          "data": {
            "text/plain": [
              "<matplotlib.axes._subplots.AxesSubplot at 0x7f00e7064390>"
            ]
          },
          "metadata": {},
          "execution_count": 74
        },
        {
          "output_type": "display_data",
          "data": {
            "image/png": "[encoded data removed]",
            "text/plain": [
              "<Figure size 432x288 with 1 Axes>"
            ]
          },
          "metadata": {
            "needs_background": "light"
          }
        }
      ]
    },
    {
      "cell_type": "code",
      "metadata": {
        "colab": {
          "base_uri": "https://localhost:8080/"
        },
        "id": "WCGC_d582_ha",
        "outputId": "86898255-3667-42e6-e9ae-83b4cd85403d"
      },
      "source": [
        "pca_df.shape"
      ],
      "execution_count": 76,
      "outputs": [
        {
          "output_type": "execute_result",
          "data": {
            "text/plain": [
              "(569, 4)"
            ]
          },
          "metadata": {},
          "execution_count": 76
        }
      ]
    },
    {
      "cell_type": "markdown",
      "metadata": {
        "id": "JDEZ9SZVFRS5"
      },
      "source": [
        "# Lets plot pca1 and pc2"
      ]
    },
    {
      "cell_type": "code",
      "metadata": {
        "colab": {
          "base_uri": "https://localhost:8080/",
          "height": 350
        },
        "id": "y3WzrmGYFVAt",
        "outputId": "9e6e0807-a95e-471d-d35e-a2d01dc244c1"
      },
      "source": [
        "sns.scatterplot(pca_df.pc1, pca_df.pc2, hue=bc.target)"
      ],
      "execution_count": 78,
      "outputs": [
        {
          "output_type": "stream",
          "name": "stderr",
          "text": [
            "/usr/local/lib/python3.7/dist-packages/seaborn/_decorators.py:43: FutureWarning: Pass the following variables as keyword args: x, y. From version 0.12, the only valid positional argument will be `data`, and passing other arguments without an explicit keyword will result in an error or misinterpretation.\n",
            "  FutureWarning\n"
          ]
        },
        {
          "output_type": "execute_result",
          "data": {
            "text/plain": [
              "<matplotlib.axes._subplots.AxesSubplot at 0x7f00e5ac7950>"
            ]
          },
          "metadata": {},
          "execution_count": 78
        },
        {
          "output_type": "display_data",
          "data": {
            "image/png": "[encoded data removed]",
            "text/plain": [
              "<Figure size 432x288 with 1 Axes>"
            ]
          },
          "metadata": {
            "needs_background": "light"
          }
        }
      ]
    },
    {
      "cell_type": "markdown",
      "metadata": {
        "id": "50hO8sYsJkpt"
      },
      "source": [
        "# Insights\n",
        "\n",
        "## This dataset had 30 features, that is impossible to plot\n",
        "## applied PCA and then visualized the data\n",
        "## and see that the data is lineraly separable (class 0,1 [malignent and beningn cancers] are separable)\n",
        "## This problem is a classification problem"
      ]
    },
    {
      "cell_type": "markdown",
      "metadata": {
        "id": "Zw2ozQ4cJ0G6"
      },
      "source": [
        "# **Data Preparation**\n"
      ]
    },
    {
      "cell_type": "code",
      "metadata": {
        "colab": {
          "base_uri": "https://localhost:8080/"
        },
        "id": "yuI8jnweJxaQ",
        "outputId": "a88b8f92-2529-4bf0-8829-102c7831c5d3"
      },
      "source": [
        "X = bc.data\n",
        "y = bc.target\n",
        "\n",
        "print(X.shape)\n",
        "print(y.shape)\n",
        "\n",
        "X_train, X_test, y_train, y_test = train_test_split(X, y, test_size=0.2)"
      ],
      "execution_count": 81,
      "outputs": [
        {
          "output_type": "stream",
          "name": "stdout",
          "text": [
            "(569, 30)\n",
            "(569,)\n"
          ]
        }
      ]
    },
    {
      "cell_type": "markdown",
      "metadata": {
        "id": "Gg5GI5BaKANs"
      },
      "source": [
        "# Logistic Regression \n",
        "\n",
        "## for binary classification logistic regression is a popular choice"
      ]
    },
    {
      "cell_type": "code",
      "metadata": {
        "id": "HLJIqpjyJn23"
      },
      "source": [
        "from sklearn.linear_model import LogisticRegression"
      ],
      "execution_count": 86,
      "outputs": []
    },
    {
      "cell_type": "code",
      "metadata": {
        "id": "qsIQqP0ZYH0b"
      },
      "source": [
        "lr_clf = LogisticRegression(random_state=0)"
      ],
      "execution_count": 89,
      "outputs": []
    },
    {
      "cell_type": "code",
      "metadata": {
        "colab": {
          "base_uri": "https://localhost:8080/"
        },
        "id": "4adVY5-OY3R4",
        "outputId": "044c8959-f514-4aa6-b6cc-41662d535a3b"
      },
      "source": [
        "lr_clf.fit(X_train, y_train)\n",
        "lr_clf.score(X_test, y_test)\n"
      ],
      "execution_count": 90,
      "outputs": [
        {
          "output_type": "stream",
          "name": "stderr",
          "text": [
            "/usr/local/lib/python3.7/dist-packages/sklearn/linear_model/_logistic.py:940: ConvergenceWarning: lbfgs failed to converge (status=1):\n",
            "STOP: TOTAL NO. of ITERATIONS REACHED LIMIT.\n",
            "\n",
            "Increase the number of iterations (max_iter) or scale the data as shown in:\n",
            "    https://scikit-learn.org/stable/modules/preprocessing.html\n",
            "Please also refer to the documentation for alternative solver options:\n",
            "    https://scikit-learn.org/stable/modules/linear_model.html#logistic-regression\n",
            "  extra_warning_msg=_LOGISTIC_SOLVER_CONVERGENCE_MSG)\n"
          ]
        },
        {
          "output_type": "execute_result",
          "data": {
            "text/plain": [
              "0.9385964912280702"
            ]
          },
          "metadata": {},
          "execution_count": 90
        }
      ]
    },
    {
      "cell_type": "markdown",
      "metadata": {
        "id": "i0Co63NQLXh4"
      },
      "source": [
        "## We got two tips in the form of training :D \n",
        "### lets scale the data \n"
      ]
    },
    {
      "cell_type": "code",
      "metadata": {
        "id": "-1yS47S2LlLk"
      },
      "source": [
        "scaled_X_train = scale(X_train)\n",
        "scaled_X_test = scale(X_test)"
      ],
      "execution_count": 91,
      "outputs": []
    },
    {
      "cell_type": "code",
      "metadata": {
        "colab": {
          "base_uri": "https://localhost:8080/"
        },
        "id": "iulrai5FL5EJ",
        "outputId": "f6cab80c-19f4-4c9a-ed0b-6e123ba040fd"
      },
      "source": [
        "lr_clf.fit(scaled_X_train, y_train)\n",
        "lr_clf.score(scaled_X_test, y_test)"
      ],
      "execution_count": 93,
      "outputs": [
        {
          "output_type": "execute_result",
          "data": {
            "text/plain": [
              "0.9824561403508771"
            ]
          },
          "metadata": {},
          "execution_count": 93
        }
      ]
    },
    {
      "cell_type": "markdown",
      "metadata": {
        "id": "fWS8SsOdML8L"
      },
      "source": [
        "# We found that accuracy is increased"
      ]
    },
    {
      "cell_type": "code",
      "metadata": {
        "id": "Gm5phY-mMHLr"
      },
      "source": [
        ""
      ],
      "execution_count": 94,
      "outputs": []
    },
    {
      "cell_type": "markdown",
      "metadata": {
        "id": "OWuTSb_DR7g7"
      },
      "source": [
        "# **Suppor Vector Machine**\n"
      ]
    },
    {
      "cell_type": "code",
      "metadata": {
        "id": "9IOKtCndZZul",
        "colab": {
          "base_uri": "https://localhost:8080/"
        },
        "outputId": "78404a2f-775a-4d77-d712-432c118f6976"
      },
      "source": [
        "from sklearn import svm\n",
        "clf1 = svm.SVC(C = 1.0, kernel ='rbf', gamma= 'auto')\n",
        "clf1.fit(X_train, y_train)\n",
        "clf1.score(X_test, y_test)"
      ],
      "execution_count": 97,
      "outputs": [
        {
          "output_type": "execute_result",
          "data": {
            "text/plain": [
              "0.6052631578947368"
            ]
          },
          "metadata": {},
          "execution_count": 97
        }
      ]
    },
    {
      "cell_type": "code",
      "metadata": {
        "colab": {
          "base_uri": "https://localhost:8080/"
        },
        "id": "qRmo-CDhcKp_",
        "outputId": "59575de4-d6f0-4ebc-f2eb-50e33ca8322f"
      },
      "source": [
        "clf2 = svm.SVC(C = 5.0, kernel ='linear', gamma= 'scale')\n",
        "clf2.fit(X_train, y_train)\n",
        "clf2.score(X_test, y_test)"
      ],
      "execution_count": 98,
      "outputs": [
        {
          "output_type": "execute_result",
          "data": {
            "text/plain": [
              "0.9473684210526315"
            ]
          },
          "metadata": {},
          "execution_count": 98
        }
      ]
    },
    {
      "cell_type": "markdown",
      "metadata": {
        "id": "e-Xkt7GNSVAa"
      },
      "source": [
        "## WE found that with linear kernel the accuracy is increasing. \n",
        "### A reason can be the data is linearly separable (we found it through Principal Component Visualization)"
      ]
    },
    {
      "cell_type": "markdown",
      "metadata": {
        "id": "wlhUt34l13XY"
      },
      "source": [
        "# five fold Cross Validation"
      ]
    },
    {
      "cell_type": "code",
      "metadata": {
        "id": "BW2Ls2oJj8_j"
      },
      "source": [
        "scores1 = cross_val_score(clf1, X_train, y_train, cv=5)\n",
        "scores2 = cross_val_score(clf2, X_train, y_train, cv = 5)"
      ],
      "execution_count": 99,
      "outputs": []
    },
    {
      "cell_type": "code",
      "metadata": {
        "colab": {
          "base_uri": "https://localhost:8080/"
        },
        "id": "FhqjRZFYkub9",
        "outputId": "fc641e6f-21f2-4aab-e942-1b3f09f29bd6"
      },
      "source": [
        "print(scores1)\n",
        "print()\n",
        "print(scores2)"
      ],
      "execution_count": 100,
      "outputs": [
        {
          "output_type": "stream",
          "name": "stdout",
          "text": [
            "[0.63736264 0.63736264 0.63736264 0.62637363 0.62637363]\n",
            "\n",
            "[0.95604396 0.96703297 0.94505495 0.94505495 0.95604396]\n"
          ]
        }
      ]
    },
    {
      "cell_type": "markdown",
      "metadata": {
        "id": "Y49W4vQ0Ssr6"
      },
      "source": [
        "# **GridSearchCV**"
      ]
    },
    {
      "cell_type": "code",
      "metadata": {
        "id": "F5UyywPBmKw_"
      },
      "source": [
        "from sklearn.model_selection import GridSearchCV"
      ],
      "execution_count": 101,
      "outputs": []
    },
    {
      "cell_type": "markdown",
      "metadata": {
        "id": "nAW462Wx2pE1"
      },
      "source": [
        "# we can reduce the tidious/repeatating task of trying with different hyperparameter (e.g. C value, kernel type) by using sklearn gridsearchCV API\n",
        "# we can try different hyperparameters with gridsearchCV and train the models to find the most accurate model"
      ]
    },
    {
      "cell_type": "code",
      "metadata": {
        "id": "Y_hKr25umRfK"
      },
      "source": [
        "gridclf = GridSearchCV(svm.SVC(gamma='auto'), \n",
        "                       {'C': [1, 5, 10], 'kernel':['rbf', 'linear',]}, cv = 5)"
      ],
      "execution_count": 104,
      "outputs": []
    },
    {
      "cell_type": "code",
      "metadata": {
        "colab": {
          "base_uri": "https://localhost:8080/"
        },
        "id": "NveI775coC2a",
        "outputId": "1916d44d-59c9-426c-b206-dceec2603284"
      },
      "source": [
        "gridclf.fit(X_train, y_train)"
      ],
      "execution_count": 105,
      "outputs": [
        {
          "output_type": "execute_result",
          "data": {
            "text/plain": [
              "GridSearchCV(cv=5, error_score=nan,\n",
              "             estimator=SVC(C=1.0, break_ties=False, cache_size=200,\n",
              "                           class_weight=None, coef0=0.0,\n",
              "                           decision_function_shape='ovr', degree=3,\n",
              "                           gamma='auto', kernel='rbf', max_iter=-1,\n",
              "                           probability=False, random_state=None, shrinking=True,\n",
              "                           tol=0.001, verbose=False),\n",
              "             iid='deprecated', n_jobs=None,\n",
              "             param_grid={'C': [1, 5, 10], 'kernel': ['rbf', 'linear']},\n",
              "             pre_dispatch='2*n_jobs', refit=True, return_train_score=False,\n",
              "             scoring=None, verbose=0)"
            ]
          },
          "metadata": {},
          "execution_count": 105
        }
      ]
    },
    {
      "cell_type": "code",
      "metadata": {
        "colab": {
          "base_uri": "https://localhost:8080/"
        },
        "id": "6DcTiSbBoHoP",
        "outputId": "e3294bbe-7fb0-4c0c-f658-69883a6f9795"
      },
      "source": [
        "gridclf.cv_results_"
      ],
      "execution_count": 106,
      "outputs": [
        {
          "output_type": "execute_result",
          "data": {
            "text/plain": [
              "{'mean_fit_time': array([0.01175776, 1.19482059, 0.01053772, 2.87768841, 0.01058164,\n",
              "        2.7549129 ]),\n",
              " 'mean_score_time': array([0.00235801, 0.00062418, 0.00231032, 0.00061851, 0.00231338,\n",
              "        0.00061431]),\n",
              " 'mean_test_score': array([0.63296703, 0.96483516, 0.63296703, 0.95384615, 0.63296703,\n",
              "        0.94725275]),\n",
              " 'param_C': masked_array(data=[1, 1, 5, 5, 10, 10],\n",
              "              mask=[False, False, False, False, False, False],\n",
              "        fill_value='?',\n",
              "             dtype=object),\n",
              " 'param_kernel': masked_array(data=['rbf', 'linear', 'rbf', 'linear', 'rbf', 'linear'],\n",
              "              mask=[False, False, False, False, False, False],\n",
              "        fill_value='?',\n",
              "             dtype=object),\n",
              " 'params': [{'C': 1, 'kernel': 'rbf'},\n",
              "  {'C': 1, 'kernel': 'linear'},\n",
              "  {'C': 5, 'kernel': 'rbf'},\n",
              "  {'C': 5, 'kernel': 'linear'},\n",
              "  {'C': 10, 'kernel': 'rbf'},\n",
              "  {'C': 10, 'kernel': 'linear'}],\n",
              " 'rank_test_score': array([4, 1, 4, 2, 4, 3], dtype=int32),\n",
              " 'split0_test_score': array([0.63736264, 0.94505495, 0.63736264, 0.95604396, 0.63736264,\n",
              "        0.93406593]),\n",
              " 'split1_test_score': array([0.63736264, 0.98901099, 0.63736264, 0.96703297, 0.63736264,\n",
              "        0.95604396]),\n",
              " 'split2_test_score': array([0.63736264, 0.96703297, 0.63736264, 0.94505495, 0.63736264,\n",
              "        0.94505495]),\n",
              " 'split3_test_score': array([0.62637363, 0.95604396, 0.62637363, 0.94505495, 0.62637363,\n",
              "        0.95604396]),\n",
              " 'split4_test_score': array([0.62637363, 0.96703297, 0.62637363, 0.95604396, 0.62637363,\n",
              "        0.94505495]),\n",
              " 'std_fit_time': array([1.32289986e-03, 4.44462015e-01, 1.70928237e-04, 1.37828772e+00,\n",
              "        1.02622469e-04, 1.51917847e+00]),\n",
              " 'std_score_time': array([6.03347692e-05, 1.27975489e-05, 4.58880889e-05, 9.51932270e-06,\n",
              "        5.92119633e-05, 6.44806562e-06]),\n",
              " 'std_test_score': array([0.00538349, 0.01457857, 0.00538349, 0.00822342, 0.00538349,\n",
              "        0.00822342])}"
            ]
          },
          "metadata": {},
          "execution_count": 106
        }
      ]
    },
    {
      "cell_type": "markdown",
      "metadata": {
        "id": "BIfnvLsR5_-l"
      },
      "source": [
        "## Lets convert the result into a pandas dataframe and select only the needed columns"
      ]
    },
    {
      "cell_type": "code",
      "metadata": {
        "colab": {
          "base_uri": "https://localhost:8080/",
          "height": 234
        },
        "id": "jo3Bm4TPopZA",
        "outputId": "aca1ccbe-5693-45fa-e2d2-c9350006d76f"
      },
      "source": [
        "hyper_p = pd.DataFrame(gridclf.cv_results_)[[\"param_C\", \"param_kernel\", \"mean_test_score\"]]\n",
        "hyper_p"
      ],
      "execution_count": 108,
      "outputs": [
        {
          "output_type": "execute_result",
          "data": {
            "text/html": [
              "<div>\n",
              "<style scoped>\n",
              "    .dataframe tbody tr th:only-of-type {\n",
              "        vertical-align: middle;\n",
              "    }\n",
              "\n",
              "    .dataframe tbody tr th {\n",
              "        vertical-align: top;\n",
              "    }\n",
              "\n",
              "    .dataframe thead th {\n",
              "        text-align: right;\n",
              "    }\n",
              "</style>\n",
              "<table border=\"1\" class=\"dataframe\">\n",
              "  <thead>\n",
              "    <tr style=\"text-align: right;\">\n",
              "      <th></th>\n",
              "      <th>param_C</th>\n",
              "      <th>param_kernel</th>\n",
              "      <th>mean_test_score</th>\n",
              "    </tr>\n",
              "  </thead>\n",
              "  <tbody>\n",
              "    <tr>\n",
              "      <th>0</th>\n",
              "      <td>1</td>\n",
              "      <td>rbf</td>\n",
              "      <td>0.632967</td>\n",
              "    </tr>\n",
              "    <tr>\n",
              "      <th>1</th>\n",
              "      <td>1</td>\n",
              "      <td>linear</td>\n",
              "      <td>0.964835</td>\n",
              "    </tr>\n",
              "    <tr>\n",
              "      <th>2</th>\n",
              "      <td>5</td>\n",
              "      <td>rbf</td>\n",
              "      <td>0.632967</td>\n",
              "    </tr>\n",
              "    <tr>\n",
              "      <th>3</th>\n",
              "      <td>5</td>\n",
              "      <td>linear</td>\n",
              "      <td>0.953846</td>\n",
              "    </tr>\n",
              "    <tr>\n",
              "      <th>4</th>\n",
              "      <td>10</td>\n",
              "      <td>rbf</td>\n",
              "      <td>0.632967</td>\n",
              "    </tr>\n",
              "    <tr>\n",
              "      <th>5</th>\n",
              "      <td>10</td>\n",
              "      <td>linear</td>\n",
              "      <td>0.947253</td>\n",
              "    </tr>\n",
              "  </tbody>\n",
              "</table>\n",
              "</div>"
            ],
            "text/plain": [
              "  param_C param_kernel  mean_test_score\n",
              "0       1          rbf         0.632967\n",
              "1       1       linear         0.964835\n",
              "2       5          rbf         0.632967\n",
              "3       5       linear         0.953846\n",
              "4      10          rbf         0.632967\n",
              "5      10       linear         0.947253"
            ]
          },
          "metadata": {},
          "execution_count": 108
        }
      ]
    },
    {
      "cell_type": "code",
      "metadata": {
        "colab": {
          "base_uri": "https://localhost:8080/"
        },
        "id": "ESk68eZSo0cb",
        "outputId": "6b537348-0614-45d4-9465-09f2a15b71bd"
      },
      "source": [
        "gridclf.best_estimator_ \n",
        "# the best model (98% accuracy) is the one that has C = 1 and a linear kernel"
      ],
      "execution_count": 109,
      "outputs": [
        {
          "output_type": "execute_result",
          "data": {
            "text/plain": [
              "SVC(C=1, break_ties=False, cache_size=200, class_weight=None, coef0=0.0,\n",
              "    decision_function_shape='ovr', degree=3, gamma='auto', kernel='linear',\n",
              "    max_iter=-1, probability=False, random_state=None, shrinking=True,\n",
              "    tol=0.001, verbose=False)"
            ]
          },
          "metadata": {},
          "execution_count": 109
        }
      ]
    },
    {
      "cell_type": "code",
      "metadata": {
        "colab": {
          "base_uri": "https://localhost:8080/"
        },
        "id": "6xl0K_vbxOtB",
        "outputId": "504d6f3a-bbed-4bcd-965a-7046946e0490"
      },
      "source": [
        "gridclf.best_params_\n",
        "# or we can only print the parameter that we defiend (not the default parameteres|)"
      ],
      "execution_count": 110,
      "outputs": [
        {
          "output_type": "execute_result",
          "data": {
            "text/plain": [
              "{'C': 1, 'kernel': 'linear'}"
            ]
          },
          "metadata": {},
          "execution_count": 110
        }
      ]
    },
    {
      "cell_type": "markdown",
      "metadata": {
        "id": "z1-qZQxC6sFP"
      },
      "source": [
        "## If the model is computatinally heavy, we can tune the parameter with the RandomizedSearchCV \n",
        "where from predefined set of hyperparameters, randomly picked parameters are tried and showed the results\n",
        "\n",
        "we can define how many randmized parameters we wanna try"
      ]
    },
    {
      "cell_type": "code",
      "metadata": {
        "id": "UwA_dBN8xdzc"
      },
      "source": [
        "from sklearn.model_selection import RandomizedSearchCV\n",
        "randclf = RandomizedSearchCV(svm.SVC(gamma='auto'), \n",
        "                       {'C': [1, 5, 10, 20], 'kernel':['rbf', 'linear',]}, cv = 5, n_iter = 3)\n",
        "\n",
        "# here n_iter = 3 means we want the output for 3 randomized hyperparameters"
      ],
      "execution_count": 111,
      "outputs": []
    },
    {
      "cell_type": "code",
      "metadata": {
        "colab": {
          "base_uri": "https://localhost:8080/"
        },
        "id": "xlMwzqwhzrI2",
        "outputId": "c988fe32-1a67-49b2-b724-0686e32cc1e1"
      },
      "source": [
        "randclf.fit(X_train, y_train)"
      ],
      "execution_count": 112,
      "outputs": [
        {
          "output_type": "execute_result",
          "data": {
            "text/plain": [
              "RandomizedSearchCV(cv=5, error_score=nan,\n",
              "                   estimator=SVC(C=1.0, break_ties=False, cache_size=200,\n",
              "                                 class_weight=None, coef0=0.0,\n",
              "                                 decision_function_shape='ovr', degree=3,\n",
              "                                 gamma='auto', kernel='rbf', max_iter=-1,\n",
              "                                 probability=False, random_state=None,\n",
              "                                 shrinking=True, tol=0.001, verbose=False),\n",
              "                   iid='deprecated', n_iter=3, n_jobs=None,\n",
              "                   param_distributions={'C': [1, 5, 10, 20],\n",
              "                                        'kernel': ['rbf', 'linear']},\n",
              "                   pre_dispatch='2*n_jobs', random_state=None, refit=True,\n",
              "                   return_train_score=False, scoring=None, verbose=0)"
            ]
          },
          "metadata": {},
          "execution_count": 112
        }
      ]
    },
    {
      "cell_type": "code",
      "metadata": {
        "colab": {
          "base_uri": "https://localhost:8080/",
          "height": 142
        },
        "id": "dcwFa3oHzw0D",
        "outputId": "c7823acd-e5a7-4e1d-a077-4db3f58c28bc"
      },
      "source": [
        "pd.DataFrame(randclf.cv_results_)[[\"param_C\", \"param_kernel\", \"mean_test_score\"]]"
      ],
      "execution_count": 113,
      "outputs": [
        {
          "output_type": "execute_result",
          "data": {
            "text/html": [
              "<div>\n",
              "<style scoped>\n",
              "    .dataframe tbody tr th:only-of-type {\n",
              "        vertical-align: middle;\n",
              "    }\n",
              "\n",
              "    .dataframe tbody tr th {\n",
              "        vertical-align: top;\n",
              "    }\n",
              "\n",
              "    .dataframe thead th {\n",
              "        text-align: right;\n",
              "    }\n",
              "</style>\n",
              "<table border=\"1\" class=\"dataframe\">\n",
              "  <thead>\n",
              "    <tr style=\"text-align: right;\">\n",
              "      <th></th>\n",
              "      <th>param_C</th>\n",
              "      <th>param_kernel</th>\n",
              "      <th>mean_test_score</th>\n",
              "    </tr>\n",
              "  </thead>\n",
              "  <tbody>\n",
              "    <tr>\n",
              "      <th>0</th>\n",
              "      <td>20</td>\n",
              "      <td>rbf</td>\n",
              "      <td>0.632967</td>\n",
              "    </tr>\n",
              "    <tr>\n",
              "      <th>1</th>\n",
              "      <td>20</td>\n",
              "      <td>linear</td>\n",
              "      <td>0.956044</td>\n",
              "    </tr>\n",
              "    <tr>\n",
              "      <th>2</th>\n",
              "      <td>5</td>\n",
              "      <td>rbf</td>\n",
              "      <td>0.632967</td>\n",
              "    </tr>\n",
              "  </tbody>\n",
              "</table>\n",
              "</div>"
            ],
            "text/plain": [
              "  param_C param_kernel  mean_test_score\n",
              "0      20          rbf         0.632967\n",
              "1      20       linear         0.956044\n",
              "2       5          rbf         0.632967"
            ]
          },
          "metadata": {},
          "execution_count": 113
        }
      ]
    },
    {
      "cell_type": "markdown",
      "metadata": {
        "id": "yqZ24LZUVAnG"
      },
      "source": [
        "# we can see we defiend lots of types of hyperparameters in randomizedCV, but it randomly selected 3 sets of parameters and trained the model with them"
      ]
    },
    {
      "cell_type": "markdown",
      "metadata": {
        "id": "3lBdTp8-8GZo"
      },
      "source": [
        "# Lets practise this again for KNN"
      ]
    },
    {
      "cell_type": "code",
      "metadata": {
        "id": "i5V8D2lKRpRZ"
      },
      "source": [
        "from sklearn.neighbors import KNeighborsClassifier\n",
        "neigh = KNeighborsClassifier(n_neighbors=3)"
      ],
      "execution_count": 114,
      "outputs": []
    },
    {
      "cell_type": "code",
      "metadata": {
        "colab": {
          "base_uri": "https://localhost:8080/"
        },
        "id": "mJUFVzRhScef",
        "outputId": "02633dee-3524-4a08-f071-6b339cc3bd6f"
      },
      "source": [
        "neigh.fit(X_train, y_train)"
      ],
      "execution_count": 115,
      "outputs": [
        {
          "output_type": "execute_result",
          "data": {
            "text/plain": [
              "KNeighborsClassifier(algorithm='auto', leaf_size=30, metric='minkowski',\n",
              "                     metric_params=None, n_jobs=None, n_neighbors=3, p=2,\n",
              "                     weights='uniform')"
            ]
          },
          "metadata": {},
          "execution_count": 115
        }
      ]
    },
    {
      "cell_type": "code",
      "metadata": {
        "colab": {
          "base_uri": "https://localhost:8080/"
        },
        "id": "EujeVFUBSjsD",
        "outputId": "5b15dc99-533f-4821-de8d-7f6473f0b872"
      },
      "source": [
        "neigh.score(X_test, y_test)"
      ],
      "execution_count": 116,
      "outputs": [
        {
          "output_type": "execute_result",
          "data": {
            "text/plain": [
              "0.9385964912280702"
            ]
          },
          "metadata": {},
          "execution_count": 116
        }
      ]
    },
    {
      "cell_type": "code",
      "metadata": {
        "id": "NqWRK1OCSvcG"
      },
      "source": [
        "gcf = GridSearchCV(KNeighborsClassifier(), {'n_neighbors':[1, 2, 3, 4, 5, 6, 7, 8, 9, 10]}, cv =3)"
      ],
      "execution_count": 117,
      "outputs": []
    },
    {
      "cell_type": "code",
      "metadata": {
        "colab": {
          "base_uri": "https://localhost:8080/"
        },
        "id": "oIfwJR2cUMoO",
        "outputId": "bbb60a36-92e9-4910-9c82-64c5ed1168df"
      },
      "source": [
        "gcf.fit(X_train, y_train)"
      ],
      "execution_count": 118,
      "outputs": [
        {
          "output_type": "execute_result",
          "data": {
            "text/plain": [
              "GridSearchCV(cv=3, error_score=nan,\n",
              "             estimator=KNeighborsClassifier(algorithm='auto', leaf_size=30,\n",
              "                                            metric='minkowski',\n",
              "                                            metric_params=None, n_jobs=None,\n",
              "                                            n_neighbors=5, p=2,\n",
              "                                            weights='uniform'),\n",
              "             iid='deprecated', n_jobs=None,\n",
              "             param_grid={'n_neighbors': [1, 2, 3, 4, 5, 6, 7, 8, 9, 10]},\n",
              "             pre_dispatch='2*n_jobs', refit=True, return_train_score=False,\n",
              "             scoring=None, verbose=0)"
            ]
          },
          "metadata": {},
          "execution_count": 118
        }
      ]
    },
    {
      "cell_type": "code",
      "metadata": {
        "colab": {
          "base_uri": "https://localhost:8080/",
          "height": 357
        },
        "id": "d8SxJOuTUVoh",
        "outputId": "a10ddfd2-cb03-4cb0-d1a3-d6a85019c276"
      },
      "source": [
        "pd.DataFrame(gcf.cv_results_)[[\"param_n_neighbors\", \"mean_test_score\"]]"
      ],
      "execution_count": 119,
      "outputs": [
        {
          "output_type": "execute_result",
          "data": {
            "text/html": [
              "<div>\n",
              "<style scoped>\n",
              "    .dataframe tbody tr th:only-of-type {\n",
              "        vertical-align: middle;\n",
              "    }\n",
              "\n",
              "    .dataframe tbody tr th {\n",
              "        vertical-align: top;\n",
              "    }\n",
              "\n",
              "    .dataframe thead th {\n",
              "        text-align: right;\n",
              "    }\n",
              "</style>\n",
              "<table border=\"1\" class=\"dataframe\">\n",
              "  <thead>\n",
              "    <tr style=\"text-align: right;\">\n",
              "      <th></th>\n",
              "      <th>param_n_neighbors</th>\n",
              "      <th>mean_test_score</th>\n",
              "    </tr>\n",
              "  </thead>\n",
              "  <tbody>\n",
              "    <tr>\n",
              "      <th>0</th>\n",
              "      <td>1</td>\n",
              "      <td>0.914241</td>\n",
              "    </tr>\n",
              "    <tr>\n",
              "      <th>1</th>\n",
              "      <td>2</td>\n",
              "      <td>0.912092</td>\n",
              "    </tr>\n",
              "    <tr>\n",
              "      <th>2</th>\n",
              "      <td>3</td>\n",
              "      <td>0.929636</td>\n",
              "    </tr>\n",
              "    <tr>\n",
              "      <th>3</th>\n",
              "      <td>4</td>\n",
              "      <td>0.918685</td>\n",
              "    </tr>\n",
              "    <tr>\n",
              "      <th>4</th>\n",
              "      <td>5</td>\n",
              "      <td>0.925264</td>\n",
              "    </tr>\n",
              "    <tr>\n",
              "      <th>5</th>\n",
              "      <td>6</td>\n",
              "      <td>0.925264</td>\n",
              "    </tr>\n",
              "    <tr>\n",
              "      <th>6</th>\n",
              "      <td>7</td>\n",
              "      <td>0.920878</td>\n",
              "    </tr>\n",
              "    <tr>\n",
              "      <th>7</th>\n",
              "      <td>8</td>\n",
              "      <td>0.927457</td>\n",
              "    </tr>\n",
              "    <tr>\n",
              "      <th>8</th>\n",
              "      <td>9</td>\n",
              "      <td>0.929679</td>\n",
              "    </tr>\n",
              "    <tr>\n",
              "      <th>9</th>\n",
              "      <td>10</td>\n",
              "      <td>0.925279</td>\n",
              "    </tr>\n",
              "  </tbody>\n",
              "</table>\n",
              "</div>"
            ],
            "text/plain": [
              "  param_n_neighbors  mean_test_score\n",
              "0                 1         0.914241\n",
              "1                 2         0.912092\n",
              "2                 3         0.929636\n",
              "3                 4         0.918685\n",
              "4                 5         0.925264\n",
              "5                 6         0.925264\n",
              "6                 7         0.920878\n",
              "7                 8         0.927457\n",
              "8                 9         0.929679\n",
              "9                10         0.925279"
            ]
          },
          "metadata": {},
          "execution_count": 119
        }
      ]
    }
  ]
}